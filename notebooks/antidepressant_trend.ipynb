{
 "cells": [
  {
   "cell_type": "markdown",
   "metadata": {},
   "source": [
    "## Trends of antidepressant prescribing since 2016"
   ]
  },
  {
   "cell_type": "code",
   "execution_count": 10,
   "metadata": {},
   "outputs": [],
   "source": [
    "import os\n",
    "import pandas as pd\n",
    "import numpy as np\n",
    "import matplotlib\n",
    "import matplotlib.pyplot as plt\n",
    "from matplotlib.dates import DateFormatter\n",
    "import matplotlib.ticker as ticker\n",
    "import matplotlib.dates as mdates\n",
    "import seaborn as sns\n",
    "from matplotlib.dates import  DateFormatter\n",
    "%matplotlib inline\n",
    "from ebmdatalab import bq\n",
    "from ebmdatalab import charts\n",
    "from ebmdatalab import maps"
   ]
  },
  {
   "cell_type": "markdown",
   "metadata": {},
   "source": [
    "The Lancet Psychiatry published a [recent analysis using openly available NHS prescribing data](https://www.thelancet.com/journals/lanpsy/article/PIIS2215-0366(20)30530-7/fulltext) to measure the rate of antidepressant prescribing in England during the first wave of the pandemic. Armitage found a 3.9% increase in antidepressant prescribing during April to September 2020, compared to the same period a year earlier.\n",
    "\n",
    "The author strongly implies that this change is due to the pandemic: “These data suggest the predictions that mental health would be severely affected by COVID-19 were correct. They also indicate that this increased burden of mental ill-health is being disproportionately managed by pharmacological treatments in primary care...” \n",
    "\n",
    "Is this level of of increase correct, and how does it compare to previous years?"
   ]
  },
  {
   "cell_type": "markdown",
   "metadata": {},
   "source": [
    "### Import data from BigQuery"
   ]
  },
  {
   "cell_type": "markdown",
   "metadata": {},
   "source": [
    "To understand the increases, we import data from BigQuery using the same methodology as Armitage, i.e. compare the number of items prescribed between April and September in two consecutive years."
   ]
  },
  {
   "cell_type": "code",
   "execution_count": 11,
   "metadata": {},
   "outputs": [
    {
     "data": {
      "text/html": [
       "<div>\n",
       "<style scoped>\n",
       "    .dataframe tbody tr th:only-of-type {\n",
       "        vertical-align: middle;\n",
       "    }\n",
       "\n",
       "    .dataframe tbody tr th {\n",
       "        vertical-align: top;\n",
       "    }\n",
       "\n",
       "    .dataframe thead th {\n",
       "        text-align: right;\n",
       "    }\n",
       "</style>\n",
       "<table border=\"1\" class=\"dataframe\">\n",
       "  <thead>\n",
       "    <tr style=\"text-align: right;\">\n",
       "      <th></th>\n",
       "      <th>items_2016</th>\n",
       "      <th>items_2017</th>\n",
       "      <th>items_2018</th>\n",
       "      <th>items_2019</th>\n",
       "      <th>items_2020</th>\n",
       "      <th>perc_increase_2017</th>\n",
       "      <th>perc_increase_2018</th>\n",
       "      <th>perc_increase_2019</th>\n",
       "      <th>perc_increase_2020</th>\n",
       "    </tr>\n",
       "  </thead>\n",
       "  <tbody>\n",
       "    <tr>\n",
       "      <th>0</th>\n",
       "      <td>32221536</td>\n",
       "      <td>33445244</td>\n",
       "      <td>35048517</td>\n",
       "      <td>37174598</td>\n",
       "      <td>38632672</td>\n",
       "      <td>3.8</td>\n",
       "      <td>4.79</td>\n",
       "      <td>6.07</td>\n",
       "      <td>3.92</td>\n",
       "    </tr>\n",
       "  </tbody>\n",
       "</table>\n",
       "</div>"
      ],
      "text/plain": [
       "   items_2016  items_2017  items_2018  items_2019  items_2020  \\\n",
       "0    32221536    33445244    35048517    37174598    38632672   \n",
       "\n",
       "   perc_increase_2017  perc_increase_2018  perc_increase_2019  \\\n",
       "0                 3.8                4.79                6.07   \n",
       "\n",
       "   perc_increase_2020  \n",
       "0                3.92  "
      ]
     },
     "metadata": {},
     "output_type": "display_data"
    }
   ],
   "source": [
    "#import data from bigquery for antidepressants\n",
    "sql = \"\"\"\n",
    "SELECT \n",
    "SUM (CASE when month between '2016-04-01' and '2016-09-01' THEN items  else 0 END) as items_2016, #items from April-September 2016\n",
    "SUM (CASE when month between '2017-04-01' and '2017-09-01' THEN items  else 0 END) as items_2017, #items from April-September 2017\n",
    "SUM (CASE when month between '2018-04-01' and '2018-09-01' THEN items  else 0 END) as items_2018, #items from April-September 2018\n",
    "SUM (CASE when month between '2019-04-01' and '2019-09-01' THEN items  else 0 END) as items_2019, #items from April-September 2019\n",
    "SUM (CASE when month between '2020-04-01' and '2020-09-01' THEN items  else 0 END) as items_2020, #items from April-September 2020\n",
    "ROUND(100* (IEEE_DIVIDE(SUM(CASE WHEN month between '2017-04-01' AND '2017-09-01' THEN items ELSE 0 END), (SUM (CASE WHEN month between '2016-04-01' and '2016-09-01' THEN items  ELSE 0 END)))-1),2) as perc_increase_2017, #calculates percentage difference between April-September 2016 and April-September 2017\n",
    "ROUND(100* (IEEE_DIVIDE(SUM(CASE WHEN month between '2018-04-01' AND '2018-09-01' THEN items ELSE 0 END), (SUM (CASE WHEN month between '2017-04-01' and '2017-09-01' THEN items  ELSE 0 END)))-1),2) as perc_increase_2018, #calculates percentage difference between April-September 2017 and April-September 2018\n",
    "ROUND(100* (IEEE_DIVIDE(SUM(CASE WHEN month between '2019-04-01' AND '2019-09-01' THEN items ELSE 0 END), (SUM (CASE WHEN month between '2018-04-01' AND '2018-09-01' THEN items  ELSE 0 END)))-1),2) as perc_increase_2019, #calculates percentage difference between April-September 2018 and April-September 2019\n",
    "ROUND(100* (IEEE_DIVIDE(SUM(CASE WHEN month between '2020-04-01' AND '2020-09-01' THEN items ELSE 0 END), (SUM (CASE WHEN month between '2019-04-01' AND '2019-09-01' THEN items  ELSE 0 END)))-1),2)as perc_increase_2020 #calculates percentage difference between April-September 2019 and April-September 2020\n",
    "FROM ebmdatalab.hscic.normalised_prescribing\n",
    "WHERE\n",
    "bnf_code LIKE '0403%' #section 4.3 of legacy BNF - all antidepressants\n",
    "\"\"\"\n",
    "\n",
    "exportfile = os.path.join(\"..\",\"data\",\"adp_df.csv\") #set path for data cache\n",
    "adp_df = bq.cached_read(sql, csv_path=exportfile, use_cache=True) #save dataframte to csv\n",
    "display(adp_df) #show dataframe as a table"
   ]
  },
  {
   "cell_type": "markdown",
   "metadata": {},
   "source": [
    "As we can see from above, the author is correct that there has been an increase of approximately 3.9% between the six months to September 2020, and the same period the year before.  However, this is a lower increase that in 2018 and 2019 (4.79% and 6.07%) and similar to the 2017 increase (3.80%)."
   ]
  },
  {
   "cell_type": "markdown",
   "metadata": {},
   "source": [
    "### Restricting to Selective Seretonin Reuptake Inhibitors (SSRIs)"
   ]
  },
  {
   "cell_type": "markdown",
   "metadata": {},
   "source": [
    "The legacy BNF for antidepressants includes drugs, such as amitryptyline and nortryptyline, which are now more commonly used for other conditions (such as pain in the case of amitryptyline).  In order to more accurately assess the uptake of antidepressants for mental health issues, it would be worth using only section 4.3.3 (SSRIs) as a useful indicator, as these a)are the most commonly used drug, b) tend only to be used primarily for mental health issues."
   ]
  },
  {
   "cell_type": "code",
   "execution_count": 12,
   "metadata": {},
   "outputs": [
    {
     "data": {
      "text/html": [
       "<div>\n",
       "<style scoped>\n",
       "    .dataframe tbody tr th:only-of-type {\n",
       "        vertical-align: middle;\n",
       "    }\n",
       "\n",
       "    .dataframe tbody tr th {\n",
       "        vertical-align: top;\n",
       "    }\n",
       "\n",
       "    .dataframe thead th {\n",
       "        text-align: right;\n",
       "    }\n",
       "</style>\n",
       "<table border=\"1\" class=\"dataframe\">\n",
       "  <thead>\n",
       "    <tr style=\"text-align: right;\">\n",
       "      <th></th>\n",
       "      <th>items_2016</th>\n",
       "      <th>items_2017</th>\n",
       "      <th>items_2018</th>\n",
       "      <th>items_2019</th>\n",
       "      <th>items_2020</th>\n",
       "      <th>perc_increase_2017</th>\n",
       "      <th>perc_increase_2018</th>\n",
       "      <th>perc_increase_2019</th>\n",
       "      <th>perc_increase_2020</th>\n",
       "    </tr>\n",
       "  </thead>\n",
       "  <tbody>\n",
       "    <tr>\n",
       "      <th>0</th>\n",
       "      <td>17357060</td>\n",
       "      <td>18009536</td>\n",
       "      <td>18912571</td>\n",
       "      <td>20119446</td>\n",
       "      <td>20811173</td>\n",
       "      <td>3.76</td>\n",
       "      <td>5.01</td>\n",
       "      <td>6.38</td>\n",
       "      <td>3.44</td>\n",
       "    </tr>\n",
       "  </tbody>\n",
       "</table>\n",
       "</div>"
      ],
      "text/plain": [
       "   items_2016  items_2017  items_2018  items_2019  items_2020  \\\n",
       "0    17357060    18009536    18912571    20119446    20811173   \n",
       "\n",
       "   perc_increase_2017  perc_increase_2018  perc_increase_2019  \\\n",
       "0                3.76                5.01                6.38   \n",
       "\n",
       "   perc_increase_2020  \n",
       "0                3.44  "
      ]
     },
     "metadata": {},
     "output_type": "display_data"
    }
   ],
   "source": [
    "#import data from bigquery for SSRIs only\n",
    "sql = \"\"\"\n",
    "SELECT \n",
    "SUM (CASE when month between '2016-04-01' and '2016-09-01' THEN items  else 0 END) as items_2016, #items from April-September 2016\n",
    "SUM (CASE when month between '2017-04-01' and '2017-09-01' THEN items  else 0 END) as items_2017, #items from April-September 2017\n",
    "SUM (CASE when month between '2018-04-01' and '2018-09-01' THEN items  else 0 END) as items_2018, #items from April-September 2018\n",
    "SUM (CASE when month between '2019-04-01' and '2019-09-01' THEN items  else 0 END) as items_2019, #items from April-September 2019\n",
    "SUM (CASE when month between '2020-04-01' and '2020-09-01' THEN items  else 0 END) as items_2020, #items from April-September 2020\n",
    "ROUND(100* (IEEE_DIVIDE(SUM(CASE WHEN month between '2017-04-01' AND '2017-09-01' THEN items ELSE 0 END), (SUM (CASE WHEN month between '2016-04-01' and '2016-09-01' THEN items  ELSE 0 END)))-1),2) as perc_increase_2017, #calculates percentage difference between April-September 2016 and April-September 2017\n",
    "ROUND(100* (IEEE_DIVIDE(SUM(CASE WHEN month between '2018-04-01' AND '2018-09-01' THEN items ELSE 0 END), (SUM (CASE WHEN month between '2017-04-01' and '2017-09-01' THEN items  ELSE 0 END)))-1),2) as perc_increase_2018, #calculates percentage difference between April-September 2017 and April-September 2018\n",
    "ROUND(100* (IEEE_DIVIDE(SUM(CASE WHEN month between '2019-04-01' AND '2019-09-01' THEN items ELSE 0 END), (SUM (CASE WHEN month between '2018-04-01' AND '2018-09-01' THEN items  ELSE 0 END)))-1),2) as perc_increase_2019, #calculates percentage difference between April-September 2018 and April-September 2019\n",
    "ROUND(100* (IEEE_DIVIDE(SUM(CASE WHEN month between '2020-04-01' AND '2020-09-01' THEN items ELSE 0 END), (SUM (CASE WHEN month between '2019-04-01' AND '2019-09-01' THEN items  ELSE 0 END)))-1),2)as perc_increase_2020 #calculates percentage difference between April-September 2019 and April-September 2020\n",
    "FROM ebmdatalab.hscic.normalised_prescribing\n",
    "WHERE\n",
    "bnf_code LIKE '040303%' #paragraph 4.3.3 of legacy BNF - SSRIs\n",
    "\"\"\"\n",
    "\n",
    "exportfile = os.path.join(\"..\",\"data\",\"ssri_df.csv\") #set path for data cache\n",
    "ssri_df = bq.cached_read(sql, csv_path=exportfile, use_cache=True) #save dataframte to csv\n",
    "display(ssri_df) #show dataframe as a table"
   ]
  },
  {
   "cell_type": "markdown",
   "metadata": {
    "lines_to_next_cell": 2
   },
   "source": [
    "As can be seen above, the increase between the six months to September 2020 compared with the same period the previous year is the lowest of the 4 years analysed."
   ]
  },
  {
   "cell_type": "code",
   "execution_count": null,
   "metadata": {},
   "outputs": [],
   "source": []
  }
 ],
 "metadata": {
  "jupytext": {
   "cell_metadata_filter": "all",
   "notebook_metadata_filter": "all,-language_info",
   "text_representation": {
    "extension": ".py",
    "format_name": "light",
    "format_version": "1.5",
    "jupytext_version": "1.3.3"
   }
  },
  "kernelspec": {
   "display_name": "Python 3",
   "language": "python",
   "name": "python3"
  },
  "language_info": {
   "codemirror_mode": {
    "name": "ipython",
    "version": 3
   },
   "file_extension": ".py",
   "mimetype": "text/x-python",
   "name": "python",
   "nbconvert_exporter": "python",
   "pygments_lexer": "ipython3",
   "version": "3.8.1"
  }
 },
 "nbformat": 4,
 "nbformat_minor": 4
}
